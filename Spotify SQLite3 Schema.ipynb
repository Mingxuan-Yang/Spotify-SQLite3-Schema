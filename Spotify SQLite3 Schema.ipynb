{
 "cells": [
  {
   "cell_type": "code",
   "execution_count": 1,
   "metadata": {},
   "outputs": [],
   "source": [
    "import numpy as np\n",
    "import pandas as pd\n",
    "import sqlite3"
   ]
  },
  {
   "cell_type": "markdown",
   "metadata": {},
   "source": [
    "## Download Dataset"
   ]
  },
  {
   "cell_type": "code",
   "execution_count": 2,
   "metadata": {},
   "outputs": [
    {
     "data": {
      "text/html": [
       "<div>\n",
       "<style scoped>\n",
       "    .dataframe tbody tr th:only-of-type {\n",
       "        vertical-align: middle;\n",
       "    }\n",
       "\n",
       "    .dataframe tbody tr th {\n",
       "        vertical-align: top;\n",
       "    }\n",
       "\n",
       "    .dataframe thead th {\n",
       "        text-align: right;\n",
       "    }\n",
       "</style>\n",
       "<table border=\"1\" class=\"dataframe\">\n",
       "  <thead>\n",
       "    <tr style=\"text-align: right;\">\n",
       "      <th></th>\n",
       "      <th>track_id</th>\n",
       "      <th>track_name</th>\n",
       "      <th>track_artist</th>\n",
       "      <th>track_popularity</th>\n",
       "      <th>track_album_id</th>\n",
       "      <th>track_album_name</th>\n",
       "      <th>track_album_release_date</th>\n",
       "      <th>playlist_name</th>\n",
       "      <th>playlist_id</th>\n",
       "      <th>playlist_genre</th>\n",
       "      <th>...</th>\n",
       "      <th>key</th>\n",
       "      <th>loudness</th>\n",
       "      <th>mode</th>\n",
       "      <th>speechiness</th>\n",
       "      <th>acousticness</th>\n",
       "      <th>instrumentalness</th>\n",
       "      <th>liveness</th>\n",
       "      <th>valence</th>\n",
       "      <th>tempo</th>\n",
       "      <th>duration_ms</th>\n",
       "    </tr>\n",
       "  </thead>\n",
       "  <tbody>\n",
       "    <tr>\n",
       "      <th>0</th>\n",
       "      <td>6f807x0ima9a1j3VPbc7VN</td>\n",
       "      <td>I Don't Care (with Justin Bieber) - Loud Luxur...</td>\n",
       "      <td>Ed Sheeran</td>\n",
       "      <td>66</td>\n",
       "      <td>2oCs0DGTsRO98Gh5ZSl2Cx</td>\n",
       "      <td>I Don't Care (with Justin Bieber) [Loud Luxury...</td>\n",
       "      <td>2019-06-14</td>\n",
       "      <td>Pop Remix</td>\n",
       "      <td>37i9dQZF1DXcZDD7cfEKhW</td>\n",
       "      <td>pop</td>\n",
       "      <td>...</td>\n",
       "      <td>6</td>\n",
       "      <td>-2.634</td>\n",
       "      <td>1</td>\n",
       "      <td>0.0583</td>\n",
       "      <td>0.1020</td>\n",
       "      <td>0.000000</td>\n",
       "      <td>0.0653</td>\n",
       "      <td>0.518</td>\n",
       "      <td>122.036</td>\n",
       "      <td>194754</td>\n",
       "    </tr>\n",
       "    <tr>\n",
       "      <th>1</th>\n",
       "      <td>0r7CVbZTWZgbTCYdfa2P31</td>\n",
       "      <td>Memories - Dillon Francis Remix</td>\n",
       "      <td>Maroon 5</td>\n",
       "      <td>67</td>\n",
       "      <td>63rPSO264uRjW1X5E6cWv6</td>\n",
       "      <td>Memories (Dillon Francis Remix)</td>\n",
       "      <td>2019-12-13</td>\n",
       "      <td>Pop Remix</td>\n",
       "      <td>37i9dQZF1DXcZDD7cfEKhW</td>\n",
       "      <td>pop</td>\n",
       "      <td>...</td>\n",
       "      <td>11</td>\n",
       "      <td>-4.969</td>\n",
       "      <td>1</td>\n",
       "      <td>0.0373</td>\n",
       "      <td>0.0724</td>\n",
       "      <td>0.004210</td>\n",
       "      <td>0.3570</td>\n",
       "      <td>0.693</td>\n",
       "      <td>99.972</td>\n",
       "      <td>162600</td>\n",
       "    </tr>\n",
       "    <tr>\n",
       "      <th>2</th>\n",
       "      <td>1z1Hg7Vb0AhHDiEmnDE79l</td>\n",
       "      <td>All the Time - Don Diablo Remix</td>\n",
       "      <td>Zara Larsson</td>\n",
       "      <td>70</td>\n",
       "      <td>1HoSmj2eLcsrR0vE9gThr4</td>\n",
       "      <td>All the Time (Don Diablo Remix)</td>\n",
       "      <td>2019-07-05</td>\n",
       "      <td>Pop Remix</td>\n",
       "      <td>37i9dQZF1DXcZDD7cfEKhW</td>\n",
       "      <td>pop</td>\n",
       "      <td>...</td>\n",
       "      <td>1</td>\n",
       "      <td>-3.432</td>\n",
       "      <td>0</td>\n",
       "      <td>0.0742</td>\n",
       "      <td>0.0794</td>\n",
       "      <td>0.000023</td>\n",
       "      <td>0.1100</td>\n",
       "      <td>0.613</td>\n",
       "      <td>124.008</td>\n",
       "      <td>176616</td>\n",
       "    </tr>\n",
       "    <tr>\n",
       "      <th>3</th>\n",
       "      <td>75FpbthrwQmzHlBJLuGdC7</td>\n",
       "      <td>Call You Mine - Keanu Silva Remix</td>\n",
       "      <td>The Chainsmokers</td>\n",
       "      <td>60</td>\n",
       "      <td>1nqYsOef1yKKuGOVchbsk6</td>\n",
       "      <td>Call You Mine - The Remixes</td>\n",
       "      <td>2019-07-19</td>\n",
       "      <td>Pop Remix</td>\n",
       "      <td>37i9dQZF1DXcZDD7cfEKhW</td>\n",
       "      <td>pop</td>\n",
       "      <td>...</td>\n",
       "      <td>7</td>\n",
       "      <td>-3.778</td>\n",
       "      <td>1</td>\n",
       "      <td>0.1020</td>\n",
       "      <td>0.0287</td>\n",
       "      <td>0.000009</td>\n",
       "      <td>0.2040</td>\n",
       "      <td>0.277</td>\n",
       "      <td>121.956</td>\n",
       "      <td>169093</td>\n",
       "    </tr>\n",
       "    <tr>\n",
       "      <th>4</th>\n",
       "      <td>1e8PAfcKUYoKkxPhrHqw4x</td>\n",
       "      <td>Someone You Loved - Future Humans Remix</td>\n",
       "      <td>Lewis Capaldi</td>\n",
       "      <td>69</td>\n",
       "      <td>7m7vv9wlQ4i0LFuJiE2zsQ</td>\n",
       "      <td>Someone You Loved (Future Humans Remix)</td>\n",
       "      <td>2019-03-05</td>\n",
       "      <td>Pop Remix</td>\n",
       "      <td>37i9dQZF1DXcZDD7cfEKhW</td>\n",
       "      <td>pop</td>\n",
       "      <td>...</td>\n",
       "      <td>1</td>\n",
       "      <td>-4.672</td>\n",
       "      <td>1</td>\n",
       "      <td>0.0359</td>\n",
       "      <td>0.0803</td>\n",
       "      <td>0.000000</td>\n",
       "      <td>0.0833</td>\n",
       "      <td>0.725</td>\n",
       "      <td>123.976</td>\n",
       "      <td>189052</td>\n",
       "    </tr>\n",
       "  </tbody>\n",
       "</table>\n",
       "<p>5 rows × 23 columns</p>\n",
       "</div>"
      ],
      "text/plain": [
       "                 track_id                                         track_name  \\\n",
       "0  6f807x0ima9a1j3VPbc7VN  I Don't Care (with Justin Bieber) - Loud Luxur...   \n",
       "1  0r7CVbZTWZgbTCYdfa2P31                    Memories - Dillon Francis Remix   \n",
       "2  1z1Hg7Vb0AhHDiEmnDE79l                    All the Time - Don Diablo Remix   \n",
       "3  75FpbthrwQmzHlBJLuGdC7                  Call You Mine - Keanu Silva Remix   \n",
       "4  1e8PAfcKUYoKkxPhrHqw4x            Someone You Loved - Future Humans Remix   \n",
       "\n",
       "       track_artist  track_popularity          track_album_id  \\\n",
       "0        Ed Sheeran                66  2oCs0DGTsRO98Gh5ZSl2Cx   \n",
       "1          Maroon 5                67  63rPSO264uRjW1X5E6cWv6   \n",
       "2      Zara Larsson                70  1HoSmj2eLcsrR0vE9gThr4   \n",
       "3  The Chainsmokers                60  1nqYsOef1yKKuGOVchbsk6   \n",
       "4     Lewis Capaldi                69  7m7vv9wlQ4i0LFuJiE2zsQ   \n",
       "\n",
       "                                    track_album_name track_album_release_date  \\\n",
       "0  I Don't Care (with Justin Bieber) [Loud Luxury...               2019-06-14   \n",
       "1                    Memories (Dillon Francis Remix)               2019-12-13   \n",
       "2                    All the Time (Don Diablo Remix)               2019-07-05   \n",
       "3                        Call You Mine - The Remixes               2019-07-19   \n",
       "4            Someone You Loved (Future Humans Remix)               2019-03-05   \n",
       "\n",
       "  playlist_name             playlist_id playlist_genre  ... key  loudness  \\\n",
       "0     Pop Remix  37i9dQZF1DXcZDD7cfEKhW            pop  ...   6    -2.634   \n",
       "1     Pop Remix  37i9dQZF1DXcZDD7cfEKhW            pop  ...  11    -4.969   \n",
       "2     Pop Remix  37i9dQZF1DXcZDD7cfEKhW            pop  ...   1    -3.432   \n",
       "3     Pop Remix  37i9dQZF1DXcZDD7cfEKhW            pop  ...   7    -3.778   \n",
       "4     Pop Remix  37i9dQZF1DXcZDD7cfEKhW            pop  ...   1    -4.672   \n",
       "\n",
       "   mode  speechiness  acousticness  instrumentalness  liveness  valence  \\\n",
       "0     1       0.0583        0.1020          0.000000    0.0653    0.518   \n",
       "1     1       0.0373        0.0724          0.004210    0.3570    0.693   \n",
       "2     0       0.0742        0.0794          0.000023    0.1100    0.613   \n",
       "3     1       0.1020        0.0287          0.000009    0.2040    0.277   \n",
       "4     1       0.0359        0.0803          0.000000    0.0833    0.725   \n",
       "\n",
       "     tempo  duration_ms  \n",
       "0  122.036       194754  \n",
       "1   99.972       162600  \n",
       "2  124.008       176616  \n",
       "3  121.956       169093  \n",
       "4  123.976       189052  \n",
       "\n",
       "[5 rows x 23 columns]"
      ]
     },
     "execution_count": 2,
     "metadata": {},
     "output_type": "execute_result"
    }
   ],
   "source": [
    "spotify_songs = pd.read_csv('https://raw.githubusercontent.com/rfordatascience/tidytuesday/master/data/2020/2020-01-21/spotify_songs.csv')\n",
    "spotify_songs = spotify_songs.drop_duplicates()\n",
    "spotify_songs.head()"
   ]
  },
  {
   "cell_type": "code",
   "execution_count": 3,
   "metadata": {},
   "outputs": [
    {
     "data": {
      "text/plain": [
       "(32833, 23)"
      ]
     },
     "execution_count": 3,
     "metadata": {},
     "output_type": "execute_result"
    }
   ],
   "source": [
    "spotify_songs.shape"
   ]
  },
  {
   "cell_type": "markdown",
   "metadata": {},
   "source": [
    "## Create a SQLite3 schema"
   ]
  },
  {
   "cell_type": "markdown",
   "metadata": {},
   "source": [
    "### Break Table"
   ]
  },
  {
   "cell_type": "markdown",
   "metadata": {},
   "source": [
    "Based on database normalization rule as well as personal preference, the Spotify Song dataset will be divided into $6$ parts. The result is shown as below.\n",
    "\n",
    "|Table|Variables|Primary Key|Shape|\n",
    "|:---:|:-------:|:---------:|:---:|\n",
    "|**song**|`track_id` `track_name` `track_artist` `track_popularity` `track_album_id`|`track_id`|(28356, 5)|\n",
    "|**album**|`track_album_id` `track_album_name` `track_album_release_date`|`track_album_id`|(22545, 3)|\n",
    "|**playlist**|`playlist_id` `playlist_name`|`playlist_id`|(471, 2)|\n",
    "|**genre**|`playlist_subgenre` `playlist_genre`|`playlist_subgenre`|(24, 2)|\n",
    "|**feature**|`track_id` `danceability` `energy` `key` `loudness` `mode` `speechiness` `acousticness` `instrumentalness` `liveness` `valence` `tempo` `duration_ms`|`track_id`|(28356, 13)|\n",
    "|**connection**|`track_id` `playlist_id` `playlist_subgenre`|`track_id` `playlist_id` `playlist_subgenre`|(32833, 3)|"
   ]
  },
  {
   "cell_type": "code",
   "execution_count": 4,
   "metadata": {},
   "outputs": [],
   "source": [
    "song = spotify_songs[['track_id', 'track_name', 'track_artist', 'track_popularity', 'track_album_id']].drop_duplicates()\n",
    "album = spotify_songs[['track_album_id', 'track_album_name', 'track_album_release_date']].drop_duplicates()\n",
    "playlist = spotify_songs[['playlist_id', 'playlist_name']].drop_duplicates()\n",
    "genre = spotify_songs[['playlist_subgenre', 'playlist_genre']].drop_duplicates()\n",
    "feature = spotify_songs[['track_id', 'danceability', 'energy', 'key', 'loudness', 'mode', \n",
    "                         'speechiness', 'acousticness', 'instrumentalness', 'liveness', \n",
    "                         'valence', 'tempo','duration_ms']].drop_duplicates()\n",
    "feature = round(feature,4)\n",
    "connection = spotify_songs[['track_id', 'playlist_id', 'playlist_subgenre']].drop_duplicates()"
   ]
  },
  {
   "cell_type": "code",
   "execution_count": 5,
   "metadata": {},
   "outputs": [],
   "source": [
    "song.name = 'song'\n",
    "album.name = 'album'\n",
    "playlist.name = 'playlist'\n",
    "genre.name = 'genre'\n",
    "feature.name = 'feature'\n",
    "connection.name = 'connection'"
   ]
  },
  {
   "cell_type": "code",
   "execution_count": 6,
   "metadata": {},
   "outputs": [
    {
     "name": "stdout",
     "output_type": "stream",
     "text": [
      "Shape of table 'song': (28356, 5)\n",
      "Shape of table 'album': (22545, 3)\n",
      "Shape of table 'playlist': (471, 2)\n",
      "Shape of table 'genre': (24, 2)\n",
      "Shape of table 'feature': (28356, 13)\n",
      "Shape of table 'connection': (32833, 3)\n"
     ]
    }
   ],
   "source": [
    "print(\"Shape of table 'song':\", song.shape)\n",
    "print(\"Shape of table 'album':\", album.shape)\n",
    "print(\"Shape of table 'playlist':\", playlist.shape)\n",
    "print(\"Shape of table 'genre':\", genre.shape)\n",
    "print(\"Shape of table 'feature':\", feature.shape)\n",
    "print(\"Shape of table 'connection':\", connection.shape)"
   ]
  },
  {
   "cell_type": "markdown",
   "metadata": {},
   "source": [
    "### Check Primary Key"
   ]
  },
  {
   "cell_type": "code",
   "execution_count": 7,
   "metadata": {},
   "outputs": [],
   "source": [
    "def check(table, primary_key):\n",
    "    \"\"\"\n",
    "    This function is to check the validity of primary key.\n",
    "    \"\"\"\n",
    "    if np.any(table[primary_key].isnull()):\n",
    "        print('Mistake: the primary key of {} contains NULL value!'.format(table.name))\n",
    "    if table[primary_key].drop_duplicates().shape[0] != table.shape[0]:\n",
    "        print('Mistake: the primary key of {} contains REPETITIVE value!'.format(table.name))"
   ]
  },
  {
   "cell_type": "code",
   "execution_count": 8,
   "metadata": {},
   "outputs": [],
   "source": [
    "check(song, 'track_id')\n",
    "check(album, 'track_album_id')\n",
    "check(playlist, 'playlist_id')\n",
    "check(genre, 'playlist_subgenre')\n",
    "check(feature, 'track_id')\n",
    "check(connection, ['track_id', 'playlist_id', 'playlist_subgenre'])"
   ]
  },
  {
   "cell_type": "markdown",
   "metadata": {},
   "source": [
    "### Save as Sqlite3 form"
   ]
  },
  {
   "cell_type": "code",
   "execution_count": 9,
   "metadata": {},
   "outputs": [],
   "source": [
    "con = sqlite3.connect(\"Data/spotify.db\")\n",
    "song.to_sql('song', con, if_exists = 'replace', index = False)\n",
    "album.to_sql('album', con, if_exists = 'replace', index = False)\n",
    "playlist.to_sql('playlist', con, if_exists = 'replace', index = False)\n",
    "genre.to_sql('genre', con, if_exists = 'replace', index = False)\n",
    "feature.to_sql('feature', con, if_exists = 'replace', index = False)\n",
    "connection.to_sql('connection', con, if_exists = 'replace', index = False)"
   ]
  },
  {
   "cell_type": "code",
   "execution_count": 10,
   "metadata": {},
   "outputs": [],
   "source": [
    "%load_ext sql"
   ]
  },
  {
   "cell_type": "code",
   "execution_count": 11,
   "metadata": {},
   "outputs": [
    {
     "data": {
      "text/plain": [
       "'Connected: @Data/spotify.db'"
      ]
     },
     "execution_count": 11,
     "metadata": {},
     "output_type": "execute_result"
    }
   ],
   "source": [
    "%sql sqlite:///Data/spotify.db"
   ]
  },
  {
   "cell_type": "code",
   "execution_count": 12,
   "metadata": {},
   "outputs": [
    {
     "name": "stdout",
     "output_type": "stream",
     "text": [
      " * sqlite:///Data/spotify.db\n",
      "Done.\n"
     ]
    },
    {
     "data": {
      "text/html": [
       "<table>\n",
       "    <tr>\n",
       "        <th>type</th>\n",
       "        <th>name</th>\n",
       "        <th>tbl_name</th>\n",
       "        <th>rootpage</th>\n",
       "        <th>sql</th>\n",
       "    </tr>\n",
       "    <tr>\n",
       "        <td>table</td>\n",
       "        <td>song</td>\n",
       "        <td>song</td>\n",
       "        <td>2</td>\n",
       "        <td>CREATE TABLE &quot;song&quot; (<br>&quot;track_id&quot; TEXT,<br>  &quot;track_name&quot; TEXT,<br>  &quot;track_artist&quot; TEXT,<br>  &quot;track_popularity&quot; INTEGER,<br>  &quot;track_album_id&quot; TEXT<br>)</td>\n",
       "    </tr>\n",
       "    <tr>\n",
       "        <td>table</td>\n",
       "        <td>album</td>\n",
       "        <td>album</td>\n",
       "        <td>593</td>\n",
       "        <td>CREATE TABLE &quot;album&quot; (<br>&quot;track_album_id&quot; TEXT,<br>  &quot;track_album_name&quot; TEXT,<br>  &quot;track_album_release_date&quot; TEXT<br>)</td>\n",
       "    </tr>\n",
       "    <tr>\n",
       "        <td>table</td>\n",
       "        <td>playlist</td>\n",
       "        <td>playlist</td>\n",
       "        <td>919</td>\n",
       "        <td>CREATE TABLE &quot;playlist&quot; (<br>&quot;playlist_id&quot; TEXT,<br>  &quot;playlist_name&quot; TEXT<br>)</td>\n",
       "    </tr>\n",
       "    <tr>\n",
       "        <td>table</td>\n",
       "        <td>genre</td>\n",
       "        <td>genre</td>\n",
       "        <td>927</td>\n",
       "        <td>CREATE TABLE &quot;genre&quot; (<br>&quot;playlist_subgenre&quot; TEXT,<br>  &quot;playlist_genre&quot; TEXT<br>)</td>\n",
       "    </tr>\n",
       "    <tr>\n",
       "        <td>table</td>\n",
       "        <td>feature</td>\n",
       "        <td>feature</td>\n",
       "        <td>928</td>\n",
       "        <td>CREATE TABLE &quot;feature&quot; (<br>&quot;track_id&quot; TEXT,<br>  &quot;danceability&quot; REAL,<br>  &quot;energy&quot; REAL,<br>  &quot;key&quot; INTEGER,<br>  &quot;loudness&quot; REAL,<br>  &quot;mode&quot; INTEGER,<br>  &quot;speechiness&quot; REAL,<br>  &quot;acousticness&quot; REAL,<br>  &quot;instrumentalness&quot; REAL,<br>  &quot;liveness&quot; REAL,<br>  &quot;valence&quot; REAL,<br>  &quot;tempo&quot; REAL,<br>  &quot;duration_ms&quot; INTEGER<br>)</td>\n",
       "    </tr>\n",
       "    <tr>\n",
       "        <td>table</td>\n",
       "        <td>connection</td>\n",
       "        <td>connection</td>\n",
       "        <td>1724</td>\n",
       "        <td>CREATE TABLE &quot;connection&quot; (<br>&quot;track_id&quot; TEXT,<br>  &quot;playlist_id&quot; TEXT,<br>  &quot;playlist_subgenre&quot; TEXT<br>)</td>\n",
       "    </tr>\n",
       "</table>"
      ],
      "text/plain": [
       "[('table', 'song', 'song', 2, 'CREATE TABLE \"song\" (\\n\"track_id\" TEXT,\\n  \"track_name\" TEXT,\\n  \"track_artist\" TEXT,\\n  \"track_popularity\" INTEGER,\\n  \"track_album_id\" TEXT\\n)'),\n",
       " ('table', 'album', 'album', 593, 'CREATE TABLE \"album\" (\\n\"track_album_id\" TEXT,\\n  \"track_album_name\" TEXT,\\n  \"track_album_release_date\" TEXT\\n)'),\n",
       " ('table', 'playlist', 'playlist', 919, 'CREATE TABLE \"playlist\" (\\n\"playlist_id\" TEXT,\\n  \"playlist_name\" TEXT\\n)'),\n",
       " ('table', 'genre', 'genre', 927, 'CREATE TABLE \"genre\" (\\n\"playlist_subgenre\" TEXT,\\n  \"playlist_genre\" TEXT\\n)'),\n",
       " ('table', 'feature', 'feature', 928, 'CREATE TABLE \"feature\" (\\n\"track_id\" TEXT,\\n  \"danceability\" REAL,\\n  \"energy\" REAL,\\n  \"key\" INTEGER,\\n  \"loudness\" REAL,\\n  \"mode\" INTEGER,\\n  \"spe ... (2 characters truncated) ... hiness\" REAL,\\n  \"acousticness\" REAL,\\n  \"instrumentalness\" REAL,\\n  \"liveness\" REAL,\\n  \"valence\" REAL,\\n  \"tempo\" REAL,\\n  \"duration_ms\" INTEGER\\n)'),\n",
       " ('table', 'connection', 'connection', 1724, 'CREATE TABLE \"connection\" (\\n\"track_id\" TEXT,\\n  \"playlist_id\" TEXT,\\n  \"playlist_subgenre\" TEXT\\n)')]"
      ]
     },
     "execution_count": 12,
     "metadata": {},
     "output_type": "execute_result"
    }
   ],
   "source": [
    "%%sql\n",
    "\n",
    "SELECT *\n",
    "FROM sqlite_master\n",
    "WHERE type = 'table';"
   ]
  },
  {
   "cell_type": "markdown",
   "metadata": {},
   "source": [
    "## Exploration"
   ]
  },
  {
   "cell_type": "markdown",
   "metadata": {},
   "source": [
    "This part is to find the names of all playlists that contain instrumentals. And we take the first 10 playlists as the output ordered by the number of songs within each playlist."
   ]
  },
  {
   "cell_type": "code",
   "execution_count": 13,
   "metadata": {},
   "outputs": [
    {
     "name": "stdout",
     "output_type": "stream",
     "text": [
      " * sqlite:///Data/spotify.db\n",
      "Done.\n"
     ]
    },
    {
     "data": {
      "text/html": [
       "<table>\n",
       "    <tr>\n",
       "        <th>playlist name</th>\n",
       "        <th>Number of Songs</th>\n",
       "    </tr>\n",
       "    <tr>\n",
       "        <td>Lush Lofi</td>\n",
       "        <td>91</td>\n",
       "    </tr>\n",
       "    <tr>\n",
       "        <td>Underground Party | Hypnotic | Minimal | Acid | Big Room | Tech | Liquid</td>\n",
       "        <td>88</td>\n",
       "    </tr>\n",
       "    <tr>\n",
       "        <td>Jazz Vibes</td>\n",
       "        <td>81</td>\n",
       "    </tr>\n",
       "    <tr>\n",
       "        <td>House Electro 2019</td>\n",
       "        <td>81</td>\n",
       "    </tr>\n",
       "    <tr>\n",
       "        <td>Lo-Fi Beats</td>\n",
       "        <td>78</td>\n",
       "    </tr>\n",
       "    <tr>\n",
       "        <td>Lofi Hip-Hop</td>\n",
       "        <td>75</td>\n",
       "    </tr>\n",
       "    <tr>\n",
       "        <td>Selected House</td>\n",
       "        <td>60</td>\n",
       "    </tr>\n",
       "    <tr>\n",
       "        <td>💊ELECTRO-HOUSE-TECH💊</td>\n",
       "        <td>58</td>\n",
       "    </tr>\n",
       "    <tr>\n",
       "        <td>Sunny Beats</td>\n",
       "        <td>54</td>\n",
       "    </tr>\n",
       "    <tr>\n",
       "        <td>Tropical Vibes</td>\n",
       "        <td>52</td>\n",
       "    </tr>\n",
       "</table>"
      ],
      "text/plain": [
       "[('Lush Lofi', 91),\n",
       " ('Underground Party | Hypnotic | Minimal | Acid | Big Room | Tech | Liquid', 88),\n",
       " ('Jazz Vibes', 81),\n",
       " ('House Electro 2019', 81),\n",
       " ('Lo-Fi Beats', 78),\n",
       " ('Lofi Hip-Hop', 75),\n",
       " ('Selected House', 60),\n",
       " ('💊ELECTRO-HOUSE-TECH💊', 58),\n",
       " ('Sunny Beats', 54),\n",
       " ('Tropical Vibes', 52)]"
      ]
     },
     "execution_count": 13,
     "metadata": {},
     "output_type": "execute_result"
    }
   ],
   "source": [
    "%%sql\n",
    "\n",
    "SELECT playlist_name AS 'playlist name', COUNT(DISTINCT feature.track_id) AS 'Number of Songs'\n",
    "FROM feature INNER JOIN connection\n",
    "ON feature.track_id = connection.track_id\n",
    "INNER JOIN playlist\n",
    "ON connection.playlist_id = playlist.playlist_id\n",
    "WHERE instrumentalness > 0.5\n",
    "GROUP BY playlist_name\n",
    "ORDER BY COUNT(DISTINCT feature.track_id) DESC\n",
    "LIMIT 10;"
   ]
  },
  {
   "cell_type": "code",
   "execution_count": 14,
   "metadata": {},
   "outputs": [
    {
     "name": "stdout",
     "output_type": "stream",
     "text": [
      " * sqlite:///Data/spotify.db\n",
      "Done.\n"
     ]
    },
    {
     "data": {
      "text/html": [
       "<table>\n",
       "    <tr>\n",
       "        <th>total number of playlist</th>\n",
       "    </tr>\n",
       "    <tr>\n",
       "        <td>256</td>\n",
       "    </tr>\n",
       "</table>"
      ],
      "text/plain": [
       "[(256,)]"
      ]
     },
     "execution_count": 14,
     "metadata": {},
     "output_type": "execute_result"
    }
   ],
   "source": [
    "%%sql\n",
    "\n",
    "SELECT COUNT(DISTINCT playlist_name) AS 'total number of playlist'\n",
    "FROM feature INNER JOIN connection\n",
    "ON feature.track_id = connection.track_id\n",
    "INNER JOIN playlist\n",
    "ON connection.playlist_id = playlist.playlist_id\n",
    "WHERE instrumentalness > 0.5;"
   ]
  }
 ],
 "metadata": {
  "kernelspec": {
   "display_name": "Python 3",
   "language": "python",
   "name": "python3"
  },
  "language_info": {
   "codemirror_mode": {
    "name": "ipython",
    "version": 3
   },
   "file_extension": ".py",
   "mimetype": "text/x-python",
   "name": "python",
   "nbconvert_exporter": "python",
   "pygments_lexer": "ipython3",
   "version": "3.7.8"
  }
 },
 "nbformat": 4,
 "nbformat_minor": 4
}
